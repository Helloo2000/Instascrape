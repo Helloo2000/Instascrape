{
 "cells": [
  {
   "cell_type": "code",
   "execution_count": 1,
   "metadata": {},
   "outputs": [],
   "source": [
    "import instaloader\n",
    "import pandas as pd\n",
    "import time\n",
    "from itertools import islice"
   ]
  },
  {
   "attachments": {},
   "cell_type": "markdown",
   "metadata": {},
   "source": [
    "---"
   ]
  },
  {
   "cell_type": "code",
   "execution_count": 4,
   "metadata": {},
   "outputs": [
    {
     "name": "stdout",
     "output_type": "stream",
     "text": [
      "Average Posts per Day: 0.3333333333333333\n",
      "Average Posts per Week: 2.380952380952381\n",
      "Average Likes per Day: 13.08\n",
      "Average Likes per Week: 93.42857142857143\n",
      "Average Comments per Day: 0.28\n",
      "Average Comments per Week: 2.0\n"
     ]
    }
   ],
   "source": [
    "# Create an instance of Instaloader class\n",
    "L = instaloader.Instaloader()\n",
    "\n",
    "# Obtain user name\n",
    "username = input(\"Enter Instagram username: \")\n",
    "\n",
    "# Load the user's profile metadata\n",
    "profile = instaloader.Profile.from_username(L.context, username)\n",
    "\n",
    "# Create a list of dictionaries for each post\n",
    "posts_list = []\n",
    "for post in islice(profile.get_posts(), 100):  # limit to 10 most recent posts\n",
    "    # Sleep for 5 seconds before scraping each post\n",
    "    time.sleep(300)\n",
    "    post_dict = {\n",
    "        \"post_date\": post.date_local,\n",
    "        \"caption\": post.caption,\n",
    "        \"likes\": post.likes,\n",
    "        \"comments\": post.comments,\n",
    "        \"views\": post.video_view_count if post.is_video else 0\n",
    "    }\n",
    "    posts_list.append(post_dict)\n",
    "\n",
    "# Convert the list of dictionaries to a Pandas DataFrame\n",
    "df_posts = pd.DataFrame(posts_list)\n",
    "\n",
    "# Calculate average posts per day and per week\n",
    "num_days = (df_posts[\"post_date\"].max() - df_posts[\"post_date\"].min()).days + 1\n",
    "num_weeks = num_days // 7\n",
    "avg_posts_per_day = len(df_posts) / num_days\n",
    "avg_posts_per_week = len(df_posts) / num_weeks\n",
    "print(\"Average Posts per Day:\", avg_posts_per_day)\n",
    "print(\"Average Posts per Week:\", avg_posts_per_week)\n",
    "\n",
    "# Calculate average likes per day and per week\n",
    "avg_likes_per_day = df_posts[\"likes\"].sum() / num_days\n",
    "avg_likes_per_week = df_posts[\"likes\"].sum() / num_weeks\n",
    "print(\"Average Likes per Day:\", avg_likes_per_day)\n",
    "print(\"Average Likes per Week:\", avg_likes_per_week)\n",
    "\n",
    "# Calculate average comments per day and per week\n",
    "avg_comments_per_day = df_posts[\"comments\"].sum() / num_days\n",
    "avg_comments_per_week = df_posts[\"comments\"].sum() / num_weeks\n",
    "print(\"Average Comments per Day:\", avg_comments_per_day)\n",
    "print(\"Average Comments per Week:\", avg_comments_per_week)\n",
    "\n",
    "# Save the DataFrame to a CSV file\n",
    "df_posts.to_csv(\"portalterreno_posts.csv\", index=False)\n"
   ]
  }
 ],
 "metadata": {
  "kernelspec": {
   "display_name": "Python 3",
   "language": "python",
   "name": "python3"
  },
  "language_info": {
   "codemirror_mode": {
    "name": "ipython",
    "version": 3
   },
   "file_extension": ".py",
   "mimetype": "text/x-python",
   "name": "python",
   "nbconvert_exporter": "python",
   "pygments_lexer": "ipython3",
   "version": "3.11.2"
  },
  "orig_nbformat": 4
 },
 "nbformat": 4,
 "nbformat_minor": 2
}
